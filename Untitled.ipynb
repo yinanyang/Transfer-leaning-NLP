{
 "cells": [
  {
   "cell_type": "code",
   "execution_count": 3,
   "metadata": {},
   "outputs": [
    {
     "name": "stdout",
     "output_type": "stream",
     "text": [
      "instances\n",
      "['postMedia', 'postText', 'id', 'targetCaptions', 'targetParagraphs', 'targetTitle', 'postTimestamp', 'targetKeywords', 'targetDescription']\n"
     ]
    }
   ],
   "source": [
    "import csv\n",
    "import json\n",
    "import sys\n",
    "import codecs\n",
    "\n",
    "def trans(path):\n",
    "    jsonData = codecs.open(path+'.json', 'r', 'utf-8')\n",
    "    # csvfile = open(path+'.csv', 'w') # 此处这样写会导致写出来的文件会有空行\n",
    "    # csvfile = open(path+'.csv', 'wb') # python2下\n",
    "    csvfile = open(path+'.csv', 'w', newline='') # python3下\n",
    "    writer = csv.writer(csvfile, delimiter='\\t', quoting=csv.QUOTE_ALL)\n",
    "    flag = True\n",
    "    for line in jsonData:\n",
    "        dic = json.loads(line[0:-1])\n",
    "        if flag:\n",
    "            # 获取属性列表\n",
    "            keys = list(dic.keys())\n",
    "            print (keys)\n",
    "            writer.writerow(keys) # 将属性列表写入csv中\n",
    "            flag = False\n",
    "        # 读取json数据的每一行，将values数据一次一行的写入csv中\n",
    "        writer.writerow(list(dic.values()))\n",
    "    jsonData.close()\n",
    "    csvfile.close()\n",
    "\n",
    "if __name__ == '__main__':\n",
    "    path='instances'\n",
    "    print (path)\n",
    "    trans(path)\n",
    "\n"
   ]
  },
  {
   "cell_type": "code",
   "execution_count": null,
   "metadata": {},
   "outputs": [],
   "source": []
  }
 ],
 "metadata": {
  "kernelspec": {
   "display_name": "Python 3",
   "language": "python",
   "name": "python3"
  },
  "language_info": {
   "codemirror_mode": {
    "name": "ipython",
    "version": 3
   },
   "file_extension": ".py",
   "mimetype": "text/x-python",
   "name": "python",
   "nbconvert_exporter": "python",
   "pygments_lexer": "ipython3",
   "version": "3.6.5"
  }
 },
 "nbformat": 4,
 "nbformat_minor": 2
}
